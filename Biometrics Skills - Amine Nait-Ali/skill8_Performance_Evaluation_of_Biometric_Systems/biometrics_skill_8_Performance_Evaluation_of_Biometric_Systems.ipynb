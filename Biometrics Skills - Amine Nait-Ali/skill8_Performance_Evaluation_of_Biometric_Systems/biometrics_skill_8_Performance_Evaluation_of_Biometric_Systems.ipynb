{
  "nbformat": 4,
  "nbformat_minor": 0,
  "metadata": {
    "colab": {
      "provenance": []
    },
    "kernelspec": {
      "name": "python3",
      "display_name": "Python 3"
    },
    "language_info": {
      "name": "python"
    }
  },
  "cells": [
    {
      "cell_type": "markdown",
      "source": [
        "\n",
        "---\n",
        "\n",
        "<center><h1></h></center>\n",
        "\n",
        "<center><h1> Skills 8: Performance Evaluation of Biometric Systems </h></center>\n",
        "<center>\n",
        "    <img src=\"https://le-cdn.website-editor.net/s/9d802a9e77324ea49af5974d51d75a28/dms3rep/multi/opt/Logo_iPSRS_GOOD-1920w.png?Expires=1733604125&Signature=EZaAUC-oIEj6kJdl2PPmpG-M~-TQXxzS0pZf6zrijszvOUIXEkSXkcg3BRKn1YWJKSumyXpF0TsePw78yE2u4Qti43qdkjdz8jH3u3OhLy5fdK0F~0Y3ejtuVeAyWMgka0KyWA6~9KAKdkZX-pQsXoJq5hzjeFWTx0lfK5GKyBhJmTcmGIahuD4WFZFg-aNCC4Sa78iNHslu9tqrVUpnE~8Sl~CDut1pZ-wxJ9z54E~K2re7j5LTP~w72HtFjl1dU76o-MWu-DNQ8wUf8EV0gTk8IkK-Rnk1eHR06ThqAqatJn6yWXdpuUdbRPcplwhN2gMOJGh5Mun~KGEl~ZaDVQ__&Key-Pair-Id=K2NXBXLF010TJW\", width=250>\n",
        "    <img src=\"https://encrypted-tbn0.gstatic.com/images?q=tbn:ANd9GcT7qOQzhswn5yYVpbD6SL8SQtKuZT4IBwf8tg&s\", width=150>\n",
        "</center>\n",
        "\n",
        "<center>Fromsa Teshome Negasa, </center>\n",
        "<center>Photonics for Security, Reliability, and Safety (PSRS)</center>\n",
        "<center>Biometrics Course Assignment</center>\n",
        "<center>Prof. Amine Nait-Ali, Instructor</center>\n",
        "<center>21<sup>st</sup> November 2024</center>\n",
        "\n",
        "<center><h1></h></center>\n",
        "\n",
        "---"
      ],
      "metadata": {
        "id": "t1oAYktf6dSv"
      }
    },
    {
      "cell_type": "markdown",
      "source": [
        "Lab Objectives:\n",
        "* **Calculate and visualize** key biometric performance metrics: False Acceptance\n",
        "Rate (FAR), False Rejection Rate (FRR), and Equal Error Rate (EER).\n",
        "* **Plot** and **interpret** biometric system performance with ROC and DET curves.\n",
        "* Analyze and discuss the implications of the biometric system’s performance in various security scenarios through calculated metrics and visualizations."
      ],
      "metadata": {
        "id": "nVMAco_nClpx"
      }
    },
    {
      "cell_type": "markdown",
      "source": [
        "# Part 1: Understanding the Dataset and Biometric Metrics"
      ],
      "metadata": {
        "id": "RC5n0rOFu2Dr"
      }
    },
    {
      "cell_type": "markdown",
      "source": [
        "Import the nessecary modules and libraries"
      ],
      "metadata": {
        "id": "3Y6kNBUuesz-"
      }
    },
    {
      "cell_type": "code",
      "source": [
        "# Import necessary libraries\n",
        "import os\n",
        "import pandas as pd\n",
        "import matplotlib.pyplot as plt\n",
        "import numpy as np\n",
        "\n",
        "from sklearn.metrics import (\n",
        "    roc_curve, auc, det_curve, DetCurveDisplay, RocCurveDisplay, roc_auc_score\n",
        ")\n",
        "from scipy.stats import norm"
      ],
      "metadata": {
        "id": "m-sQnH5MzONt"
      },
      "execution_count": 1,
      "outputs": []
    },
    {
      "cell_type": "markdown",
      "source": [
        "## 1 Dataset Overview"
      ],
      "metadata": {
        "id": "XoUZa5vQu62m"
      }
    },
    {
      "cell_type": "markdown",
      "source": [
        "#### Load the dataset and inspect its structure"
      ],
      "metadata": {
        "id": "R6q5EhCQvABX"
      }
    },
    {
      "cell_type": "code",
      "source": [
        "# Mount Google Drive\n",
        "from google.colab import drive\n",
        "drive.mount('/content/drive')"
      ],
      "metadata": {
        "colab": {
          "base_uri": "https://localhost:8080/",
          "height": 0
        },
        "id": "6Jwk0SmLzi_1",
        "outputId": "e1f0496c-618d-483b-ba35-74cdda6c2421"
      },
      "execution_count": 2,
      "outputs": [
        {
          "output_type": "stream",
          "name": "stdout",
          "text": [
            "Drive already mounted at /content/drive; to attempt to forcibly remount, call drive.mount(\"/content/drive\", force_remount=True).\n"
          ]
        }
      ]
    },
    {
      "cell_type": "code",
      "source": [
        "# Change to the directory containing the Colab file and CSV file\n",
        "os.chdir('/content/drive/My Drive/Colab Notebooks/psrs-biometrics/biometrics-skills/skill_8/')\n",
        "!ls \"/content/drive/My Drive/Colab Notebooks/psrs-biometrics/biometrics-skills/skill_8/\""
      ],
      "metadata": {
        "colab": {
          "base_uri": "https://localhost:8080/",
          "height": 0
        },
        "id": "etWCJuhq0nLu",
        "outputId": "cfa8c1ba-c3f1-4ebb-8715-6782c0af52df"
      },
      "execution_count": 3,
      "outputs": [
        {
          "output_type": "stream",
          "name": "stdout",
          "text": [
            "'biometrics skill 8: Performance Evaluation of Biometric Systems'\n",
            " Biometric_System_Evaluation_Dataset.csv\n"
          ]
        }
      ]
    },
    {
      "cell_type": "code",
      "source": [
        "# Load and display the first few rows of the datasetthe dataset\n",
        "data = pd.read_csv('Biometric_System_Evaluation_Dataset.csv')\n",
        "data.head()"
      ],
      "metadata": {
        "colab": {
          "base_uri": "https://localhost:8080/",
          "height": 206
        },
        "id": "JtcrIeIh1ALH",
        "outputId": "c75c80b4-ce9e-41bf-fa4c-57b38ee6fb0b"
      },
      "execution_count": 4,
      "outputs": [
        {
          "output_type": "execute_result",
          "data": {
            "text/plain": [
              "      Score    Label\n",
              "0  0.749671  Genuine\n",
              "1  0.686174  Genuine\n",
              "2  0.764769  Genuine\n",
              "3  0.852303  Genuine\n",
              "4  0.676585  Genuine"
            ],
            "text/html": [
              "\n",
              "  <div id=\"df-bfd75bb1-c246-47e5-a0d5-56461a80b262\" class=\"colab-df-container\">\n",
              "    <div>\n",
              "<style scoped>\n",
              "    .dataframe tbody tr th:only-of-type {\n",
              "        vertical-align: middle;\n",
              "    }\n",
              "\n",
              "    .dataframe tbody tr th {\n",
              "        vertical-align: top;\n",
              "    }\n",
              "\n",
              "    .dataframe thead th {\n",
              "        text-align: right;\n",
              "    }\n",
              "</style>\n",
              "<table border=\"1\" class=\"dataframe\">\n",
              "  <thead>\n",
              "    <tr style=\"text-align: right;\">\n",
              "      <th></th>\n",
              "      <th>Score</th>\n",
              "      <th>Label</th>\n",
              "    </tr>\n",
              "  </thead>\n",
              "  <tbody>\n",
              "    <tr>\n",
              "      <th>0</th>\n",
              "      <td>0.749671</td>\n",
              "      <td>Genuine</td>\n",
              "    </tr>\n",
              "    <tr>\n",
              "      <th>1</th>\n",
              "      <td>0.686174</td>\n",
              "      <td>Genuine</td>\n",
              "    </tr>\n",
              "    <tr>\n",
              "      <th>2</th>\n",
              "      <td>0.764769</td>\n",
              "      <td>Genuine</td>\n",
              "    </tr>\n",
              "    <tr>\n",
              "      <th>3</th>\n",
              "      <td>0.852303</td>\n",
              "      <td>Genuine</td>\n",
              "    </tr>\n",
              "    <tr>\n",
              "      <th>4</th>\n",
              "      <td>0.676585</td>\n",
              "      <td>Genuine</td>\n",
              "    </tr>\n",
              "  </tbody>\n",
              "</table>\n",
              "</div>\n",
              "    <div class=\"colab-df-buttons\">\n",
              "\n",
              "  <div class=\"colab-df-container\">\n",
              "    <button class=\"colab-df-convert\" onclick=\"convertToInteractive('df-bfd75bb1-c246-47e5-a0d5-56461a80b262')\"\n",
              "            title=\"Convert this dataframe to an interactive table.\"\n",
              "            style=\"display:none;\">\n",
              "\n",
              "  <svg xmlns=\"http://www.w3.org/2000/svg\" height=\"24px\" viewBox=\"0 -960 960 960\">\n",
              "    <path d=\"M120-120v-720h720v720H120Zm60-500h600v-160H180v160Zm220 220h160v-160H400v160Zm0 220h160v-160H400v160ZM180-400h160v-160H180v160Zm440 0h160v-160H620v160ZM180-180h160v-160H180v160Zm440 0h160v-160H620v160Z\"/>\n",
              "  </svg>\n",
              "    </button>\n",
              "\n",
              "  <style>\n",
              "    .colab-df-container {\n",
              "      display:flex;\n",
              "      gap: 12px;\n",
              "    }\n",
              "\n",
              "    .colab-df-convert {\n",
              "      background-color: #E8F0FE;\n",
              "      border: none;\n",
              "      border-radius: 50%;\n",
              "      cursor: pointer;\n",
              "      display: none;\n",
              "      fill: #1967D2;\n",
              "      height: 32px;\n",
              "      padding: 0 0 0 0;\n",
              "      width: 32px;\n",
              "    }\n",
              "\n",
              "    .colab-df-convert:hover {\n",
              "      background-color: #E2EBFA;\n",
              "      box-shadow: 0px 1px 2px rgba(60, 64, 67, 0.3), 0px 1px 3px 1px rgba(60, 64, 67, 0.15);\n",
              "      fill: #174EA6;\n",
              "    }\n",
              "\n",
              "    .colab-df-buttons div {\n",
              "      margin-bottom: 4px;\n",
              "    }\n",
              "\n",
              "    [theme=dark] .colab-df-convert {\n",
              "      background-color: #3B4455;\n",
              "      fill: #D2E3FC;\n",
              "    }\n",
              "\n",
              "    [theme=dark] .colab-df-convert:hover {\n",
              "      background-color: #434B5C;\n",
              "      box-shadow: 0px 1px 3px 1px rgba(0, 0, 0, 0.15);\n",
              "      filter: drop-shadow(0px 1px 2px rgba(0, 0, 0, 0.3));\n",
              "      fill: #FFFFFF;\n",
              "    }\n",
              "  </style>\n",
              "\n",
              "    <script>\n",
              "      const buttonEl =\n",
              "        document.querySelector('#df-bfd75bb1-c246-47e5-a0d5-56461a80b262 button.colab-df-convert');\n",
              "      buttonEl.style.display =\n",
              "        google.colab.kernel.accessAllowed ? 'block' : 'none';\n",
              "\n",
              "      async function convertToInteractive(key) {\n",
              "        const element = document.querySelector('#df-bfd75bb1-c246-47e5-a0d5-56461a80b262');\n",
              "        const dataTable =\n",
              "          await google.colab.kernel.invokeFunction('convertToInteractive',\n",
              "                                                    [key], {});\n",
              "        if (!dataTable) return;\n",
              "\n",
              "        const docLinkHtml = 'Like what you see? Visit the ' +\n",
              "          '<a target=\"_blank\" href=https://colab.research.google.com/notebooks/data_table.ipynb>data table notebook</a>'\n",
              "          + ' to learn more about interactive tables.';\n",
              "        element.innerHTML = '';\n",
              "        dataTable['output_type'] = 'display_data';\n",
              "        await google.colab.output.renderOutput(dataTable, element);\n",
              "        const docLink = document.createElement('div');\n",
              "        docLink.innerHTML = docLinkHtml;\n",
              "        element.appendChild(docLink);\n",
              "      }\n",
              "    </script>\n",
              "  </div>\n",
              "\n",
              "\n",
              "<div id=\"df-909a5002-f59d-4444-8460-418035643220\">\n",
              "  <button class=\"colab-df-quickchart\" onclick=\"quickchart('df-909a5002-f59d-4444-8460-418035643220')\"\n",
              "            title=\"Suggest charts\"\n",
              "            style=\"display:none;\">\n",
              "\n",
              "<svg xmlns=\"http://www.w3.org/2000/svg\" height=\"24px\"viewBox=\"0 0 24 24\"\n",
              "     width=\"24px\">\n",
              "    <g>\n",
              "        <path d=\"M19 3H5c-1.1 0-2 .9-2 2v14c0 1.1.9 2 2 2h14c1.1 0 2-.9 2-2V5c0-1.1-.9-2-2-2zM9 17H7v-7h2v7zm4 0h-2V7h2v10zm4 0h-2v-4h2v4z\"/>\n",
              "    </g>\n",
              "</svg>\n",
              "  </button>\n",
              "\n",
              "<style>\n",
              "  .colab-df-quickchart {\n",
              "      --bg-color: #E8F0FE;\n",
              "      --fill-color: #1967D2;\n",
              "      --hover-bg-color: #E2EBFA;\n",
              "      --hover-fill-color: #174EA6;\n",
              "      --disabled-fill-color: #AAA;\n",
              "      --disabled-bg-color: #DDD;\n",
              "  }\n",
              "\n",
              "  [theme=dark] .colab-df-quickchart {\n",
              "      --bg-color: #3B4455;\n",
              "      --fill-color: #D2E3FC;\n",
              "      --hover-bg-color: #434B5C;\n",
              "      --hover-fill-color: #FFFFFF;\n",
              "      --disabled-bg-color: #3B4455;\n",
              "      --disabled-fill-color: #666;\n",
              "  }\n",
              "\n",
              "  .colab-df-quickchart {\n",
              "    background-color: var(--bg-color);\n",
              "    border: none;\n",
              "    border-radius: 50%;\n",
              "    cursor: pointer;\n",
              "    display: none;\n",
              "    fill: var(--fill-color);\n",
              "    height: 32px;\n",
              "    padding: 0;\n",
              "    width: 32px;\n",
              "  }\n",
              "\n",
              "  .colab-df-quickchart:hover {\n",
              "    background-color: var(--hover-bg-color);\n",
              "    box-shadow: 0 1px 2px rgba(60, 64, 67, 0.3), 0 1px 3px 1px rgba(60, 64, 67, 0.15);\n",
              "    fill: var(--button-hover-fill-color);\n",
              "  }\n",
              "\n",
              "  .colab-df-quickchart-complete:disabled,\n",
              "  .colab-df-quickchart-complete:disabled:hover {\n",
              "    background-color: var(--disabled-bg-color);\n",
              "    fill: var(--disabled-fill-color);\n",
              "    box-shadow: none;\n",
              "  }\n",
              "\n",
              "  .colab-df-spinner {\n",
              "    border: 2px solid var(--fill-color);\n",
              "    border-color: transparent;\n",
              "    border-bottom-color: var(--fill-color);\n",
              "    animation:\n",
              "      spin 1s steps(1) infinite;\n",
              "  }\n",
              "\n",
              "  @keyframes spin {\n",
              "    0% {\n",
              "      border-color: transparent;\n",
              "      border-bottom-color: var(--fill-color);\n",
              "      border-left-color: var(--fill-color);\n",
              "    }\n",
              "    20% {\n",
              "      border-color: transparent;\n",
              "      border-left-color: var(--fill-color);\n",
              "      border-top-color: var(--fill-color);\n",
              "    }\n",
              "    30% {\n",
              "      border-color: transparent;\n",
              "      border-left-color: var(--fill-color);\n",
              "      border-top-color: var(--fill-color);\n",
              "      border-right-color: var(--fill-color);\n",
              "    }\n",
              "    40% {\n",
              "      border-color: transparent;\n",
              "      border-right-color: var(--fill-color);\n",
              "      border-top-color: var(--fill-color);\n",
              "    }\n",
              "    60% {\n",
              "      border-color: transparent;\n",
              "      border-right-color: var(--fill-color);\n",
              "    }\n",
              "    80% {\n",
              "      border-color: transparent;\n",
              "      border-right-color: var(--fill-color);\n",
              "      border-bottom-color: var(--fill-color);\n",
              "    }\n",
              "    90% {\n",
              "      border-color: transparent;\n",
              "      border-bottom-color: var(--fill-color);\n",
              "    }\n",
              "  }\n",
              "</style>\n",
              "\n",
              "  <script>\n",
              "    async function quickchart(key) {\n",
              "      const quickchartButtonEl =\n",
              "        document.querySelector('#' + key + ' button');\n",
              "      quickchartButtonEl.disabled = true;  // To prevent multiple clicks.\n",
              "      quickchartButtonEl.classList.add('colab-df-spinner');\n",
              "      try {\n",
              "        const charts = await google.colab.kernel.invokeFunction(\n",
              "            'suggestCharts', [key], {});\n",
              "      } catch (error) {\n",
              "        console.error('Error during call to suggestCharts:', error);\n",
              "      }\n",
              "      quickchartButtonEl.classList.remove('colab-df-spinner');\n",
              "      quickchartButtonEl.classList.add('colab-df-quickchart-complete');\n",
              "    }\n",
              "    (() => {\n",
              "      let quickchartButtonEl =\n",
              "        document.querySelector('#df-909a5002-f59d-4444-8460-418035643220 button');\n",
              "      quickchartButtonEl.style.display =\n",
              "        google.colab.kernel.accessAllowed ? 'block' : 'none';\n",
              "    })();\n",
              "  </script>\n",
              "</div>\n",
              "\n",
              "    </div>\n",
              "  </div>\n"
            ],
            "application/vnd.google.colaboratory.intrinsic+json": {
              "type": "dataframe",
              "variable_name": "data",
              "summary": "{\n  \"name\": \"data\",\n  \"rows\": 1000,\n  \"fields\": [\n    {\n      \"column\": \"Score\",\n      \"properties\": {\n        \"dtype\": \"number\",\n        \"std\": 0.22142306153395555,\n        \"min\": 0.0303113357058428,\n        \"max\": 1.0,\n        \"num_unique_values\": 999,\n        \"samples\": [\n          0.7504046515517844,\n          0.1918943459591737,\n          1.0\n        ],\n        \"semantic_type\": \"\",\n        \"description\": \"\"\n      }\n    },\n    {\n      \"column\": \"Label\",\n      \"properties\": {\n        \"dtype\": \"category\",\n        \"num_unique_values\": 2,\n        \"samples\": [\n          \"Impostor\",\n          \"Genuine\"\n        ],\n        \"semantic_type\": \"\",\n        \"description\": \"\"\n      }\n    }\n  ]\n}"
            }
          },
          "metadata": {},
          "execution_count": 4
        }
      ]
    },
    {
      "cell_type": "code",
      "source": [
        "# Inspect the structure of the dataset\n",
        "print(\"Dataset Info:\")\n",
        "data.info()"
      ],
      "metadata": {
        "colab": {
          "base_uri": "https://localhost:8080/",
          "height": 0
        },
        "id": "eF4yGfTK2cYU",
        "outputId": "60e2df82-2c88-46ab-a2be-832773de7312"
      },
      "execution_count": 5,
      "outputs": [
        {
          "output_type": "stream",
          "name": "stdout",
          "text": [
            "Dataset Info:\n",
            "<class 'pandas.core.frame.DataFrame'>\n",
            "RangeIndex: 1000 entries, 0 to 999\n",
            "Data columns (total 2 columns):\n",
            " #   Column  Non-Null Count  Dtype  \n",
            "---  ------  --------------  -----  \n",
            " 0   Score   1000 non-null   float64\n",
            " 1   Label   1000 non-null   object \n",
            "dtypes: float64(1), object(1)\n",
            "memory usage: 15.8+ KB\n"
          ]
        }
      ]
    },
    {
      "cell_type": "code",
      "source": [
        "# Check the distribution of labels\n",
        "genuine_count = data[data['Label'] == 'Genuine'].shape[0]\n",
        "imposter_count = data[data['Label'] == 'Impostor'].shape[0]\n",
        "\n",
        "print(f\"Number of Genuine Scores: {genuine_count}\")\n",
        "print(f\"Number of Imposter Scores: {imposter_count}\")"
      ],
      "metadata": {
        "colab": {
          "base_uri": "https://localhost:8080/",
          "height": 0
        },
        "id": "rBYx0pu62oYt",
        "outputId": "49f53fb9-b049-4122-873d-9d050b90aa92"
      },
      "execution_count": 6,
      "outputs": [
        {
          "output_type": "stream",
          "name": "stdout",
          "text": [
            "Number of Genuine Scores: 500\n",
            "Number of Imposter Scores: 500\n"
          ]
        }
      ]
    },
    {
      "cell_type": "code",
      "source": [
        "# Visualize the distribution of scores\n",
        "plt.figure(figsize=(10, 6))\n",
        "plt.hist(data[data['Label'] == 'Genuine']['Score'], bins=20, alpha=0.7, label='Genuine', color='green')\n",
        "plt.hist(data[data['Label'] == 'Impostor']['Score'], bins=20, alpha=0.7, label='Imposter', color='red')\n",
        "plt.title(\"Distribution of Genuine and Imposter Scores\")\n",
        "plt.xlabel(\"Score\")\n",
        "plt.ylabel(\"Frequency\")\n",
        "plt.grid(), plt.legend(), plt.show()"
      ],
      "metadata": {
        "colab": {
          "base_uri": "https://localhost:8080/",
          "height": 582
        },
        "id": "Se0fEHNX2v2p",
        "outputId": "5b6e105e-8fe3-402c-c2e0-cd9303278e95"
      },
      "execution_count": 7,
      "outputs": [
        {
          "output_type": "display_data",
          "data": {
            "text/plain": [
              "<Figure size 1000x600 with 1 Axes>"
            ],
            "image/png": "[encoded data removed]"
          },
          "metadata": {}
        },
        {
          "output_type": "execute_result",
          "data": {
            "text/plain": [
              "(None, <matplotlib.legend.Legend at 0x7c64cde3d090>, None)"
            ]
          },
          "metadata": {},
          "execution_count": 7
        }
      ]
    },
    {
      "cell_type": "markdown",
      "source": [
        "#### FAR, FRR, and EER"
      ],
      "metadata": {
        "id": "RTtkWPYT30Ni"
      }
    },
    {
      "cell_type": "markdown",
      "source": [
        "**False Acceptance Rate (FAR)**\n",
        "\n",
        "*  Measures how often the system incorrectly grants access to imposters by misclassifying them as genuine users.\n",
        "\n",
        "*  A high FAR indicates security vulnerabilities, as unauthorized individuals can gain access.\n",
        "\n",
        "\n",
        "**False Rejection Rate (FRR)**\n",
        "\n",
        "*  Measures how often the system denies access to genuine users by misclassifying them as imposters.\n",
        "\n",
        "*  A high FRR means the system becomes inconvenient for legitimate users, as they might be denied access despite their authenticity.\n",
        "\n",
        "\n",
        "**Equal Error Rate (EER)**\n",
        "\n",
        "*  The point at which FAR equals FRR, representing a balance between security and convenience.\n",
        "\n",
        "*  A lower EER indicates a more accurate system, summarizing the system’s overall performance.\n",
        "\n",
        "\n"
      ],
      "metadata": {
        "id": "-yBaD8jC35ix"
      }
    },
    {
      "cell_type": "markdown",
      "source": [
        "## 2 Basic Data Exploration"
      ],
      "metadata": {
        "id": "CuvGerKk592j"
      }
    },
    {
      "cell_type": "markdown",
      "source": [
        "**Overall Statistics**\n",
        "\n",
        "* **Mean**: The average score across the entire dataset\n",
        "* **Standard Deviation**: Shows how spread out the scores are from the mean.\n",
        "* **Minimum** and **Maximum** Scores: These highlight the range of scores.\n",
        "\n",
        "**Group-wise Statistics**\n",
        "\n",
        "* *Genuine Scores:*\n",
        "    * Mean and standard deviation of Genuine scores show typical values and variability for legitimate users.\n",
        "\n",
        "* *Imposter Scores:*\n",
        "    * These metrics for Imposter scores provide insights into the system's ability to separate imposters from genuine users."
      ],
      "metadata": {
        "id": "KFld4Ogn6IJt"
      }
    },
    {
      "cell_type": "code",
      "source": [
        "# Calculate basic statistics\n",
        "mean_score = data['Score'].mean()\n",
        "std_dev_score = data['Score'].std()\n",
        "min_score = data['Score'].min()\n",
        "max_score = data['Score'].max()\n",
        "\n",
        "# Calculate statistics separately for Genuine and Imposter scores\n",
        "genuine_scores = data[data['Label'] == 'Genuine']['Score']\n",
        "imposter_scores = data[data['Label'] == 'Impostor']['Score']\n",
        "\n",
        "genuine_mean = genuine_scores.mean()\n",
        "genuine_std_dev = genuine_scores.std()\n",
        "imposter_mean = imposter_scores.mean()\n",
        "imposter_std_dev = imposter_scores.std()"
      ],
      "metadata": {
        "id": "jlj6or7F6BJp"
      },
      "execution_count": 8,
      "outputs": []
    },
    {
      "cell_type": "code",
      "source": [
        "# Display the statistics\n",
        "print(f\"Overall Dataset:\")\n",
        "print(f\"  Mean Score:           {mean_score:.4f}\")\n",
        "print(f\"  Standard Deviation:   {std_dev_score:.4f}\")\n",
        "print(f\"  Min Score:            {min_score:.4f}\")\n",
        "print(f\"  Max Score:            {max_score:.4f}\\n\")\n",
        "\n",
        "print(f\"Genuine Scores:\")\n",
        "print(f\"  Mean Score:           {genuine_mean:.4f}\")\n",
        "print(f\"  Standard Deviation:   {genuine_std_dev:.4f}\\n\")\n",
        "\n",
        "print(f\"Imposter Scores:\")\n",
        "print(f\"  Mean Score:           {imposter_mean:.4f}\")\n",
        "print(f\"  Standard Deviation:   {imposter_std_dev:.4f}\")"
      ],
      "metadata": {
        "colab": {
          "base_uri": "https://localhost:8080/",
          "height": 0
        },
        "id": "NNrg5QPO6VRp",
        "outputId": "1e1c5b70-aad1-41b1-aae0-a16fb1192943"
      },
      "execution_count": 9,
      "outputs": [
        {
          "output_type": "stream",
          "name": "stdout",
          "text": [
            "Overall Dataset:\n",
            "  Mean Score:           0.5018\n",
            "  Standard Deviation:   0.2214\n",
            "  Min Score:            0.0303\n",
            "  Max Score:            1.0000\n",
            "\n",
            "Genuine Scores:\n",
            "  Mean Score:           0.7005\n",
            "  Standard Deviation:   0.0975\n",
            "\n",
            "Imposter Scores:\n",
            "  Mean Score:           0.3032\n",
            "  Standard Deviation:   0.0978\n"
          ]
        }
      ]
    },
    {
      "cell_type": "markdown",
      "source": [
        "# Part 2: Calculating and Visualizing FAR, FRR, and EER"
      ],
      "metadata": {
        "id": "cCZwWgdj8G6P"
      }
    },
    {
      "cell_type": "markdown",
      "source": [
        "## 1 Threshold Definition"
      ],
      "metadata": {
        "id": "92AGb7hUEnnd"
      }
    },
    {
      "cell_type": "markdown",
      "source": [
        "To evaluate the performance of the biometric system at different sensitivity levels, a range of thresholds from 0 to 1 with a step size of 0.01 is defined."
      ],
      "metadata": {
        "id": "F3AQdoy0E1KI"
      }
    },
    {
      "cell_type": "code",
      "source": [
        "# Define thresholds from 0 to 1 with a step size of 0.01\n",
        "thresholds = np.arange(0, 1.01, 0.01)"
      ],
      "metadata": {
        "id": "NK2-i9r98Y1j"
      },
      "execution_count": 10,
      "outputs": []
    },
    {
      "cell_type": "markdown",
      "source": [
        "## 2 Calculation of FAR and FRR"
      ],
      "metadata": {
        "id": "--_QfVP-JWB0"
      }
    },
    {
      "cell_type": "markdown",
      "source": [
        "For each threshold, calculated are the:\n",
        "\n",
        "1. False Acceptance Rate (FAR), which is the ratio of impostor scores exceeding the threshold to the total number of impostor attempts, and\n",
        "2. False Rejection Rate (FRR) which is the ratio of genuine scores falling below the threshold to the total number of genuine attempts.\n",
        "\n",
        "The loop iterates through all thresholds, counting the false acceptances and rejections at each step."
      ],
      "metadata": {
        "id": "jK__gY4nJxKY"
      }
    },
    {
      "cell_type": "code",
      "source": [
        "def calculate_far_frr(thresholds, imposter_scores, genuine_scores):\n",
        "    # Initialize lists to store FAR and FRR values\n",
        "    far_values = []\n",
        "    frr_values = []\n",
        "\n",
        "    # Loop through each threshold and calculate FAR and FRR\n",
        "    for threshold in thresholds:\n",
        "        # False Acceptances: Imposter scores exceeding the threshold\n",
        "        false_acceptances = np.sum(imposter_scores > threshold)\n",
        "        # False Rejections: Genuine scores below the threshold\n",
        "        false_rejections = np.sum(genuine_scores < threshold)\n",
        "\n",
        "        # Total Imposter and Genuine attempts\n",
        "        total_imposter_attempts = len(imposter_scores)\n",
        "        total_genuine_attempts = len(genuine_scores)\n",
        "\n",
        "        # Calculate FAR and FRR\n",
        "        far = false_acceptances / total_imposter_attempts if total_imposter_attempts != 0 else 0\n",
        "        frr = false_rejections / total_genuine_attempts if total_genuine_attempts != 0 else 0\n",
        "\n",
        "        far_values.append(far)\n",
        "        frr_values.append(frr)\n",
        "\n",
        "    return far_values, frr_values\n"
      ],
      "metadata": {
        "id": "8GO86HEkQuLs"
      },
      "execution_count": 11,
      "outputs": []
    },
    {
      "cell_type": "markdown",
      "source": [
        "Helper Functions"
      ],
      "metadata": {
        "id": "Qtm9sxKb_bJZ"
      }
    },
    {
      "cell_type": "code",
      "source": [
        "\n",
        "def find_EER(far_values, frr_values, thresholds):\n",
        "    # Calculate the absolute differences between FAR and FRR\n",
        "    delta = np.abs(np.array(far_values) - np.array(frr_values))\n",
        "\n",
        "    # Find the index where the difference is minimum (EER point)\n",
        "    eer_index = np.argmin(delta)\n",
        "\n",
        "    # Return the FAR at EER, FRR at EER, and the threshold at EER\n",
        "    return far_values[eer_index], frr_values[eer_index], thresholds[eer_index]\n",
        "\n",
        "def plot_DET_curve(far_values, frr_values, addedPlots=None):\n",
        "    plt.figure(figsize=(10, 6))\n",
        "    plt.plot(far_values, frr_values, linestyle=\"--\", color='blue', linewidth=4, label=\"DET Curve\")\n",
        "    if addedPlots is not None:\n",
        "        addedPlots()\n",
        "    plt.xlabel('False Acceptance Rate (FAR)')\n",
        "    plt.ylabel('False Rejection Rate (FRR)')\n",
        "    plt.title('Detection Error Tradeoff (DET) curve')\n",
        "    plt.legend()\n",
        "    plt.grid()\n",
        "    plt.show()\n",
        "\n",
        "def addedPlots():\n",
        "    plt.plot(far_opt, frr_opt, 'ro', label=\"EER Point\")\n",
        "    plt.plot([1.0, 0.0], [0.0, 1.0], \"k--\")  # Draw the default DET Curve from 1-1"
      ],
      "metadata": {
        "id": "4OeFJMqE_ZqE"
      },
      "execution_count": 12,
      "outputs": []
    },
    {
      "cell_type": "code",
      "source": [
        "# Extract genuine and imposter scores from the data\n",
        "genuine_scores = data[data['Label'] == 'Genuine']['Score']\n",
        "imposter_scores = data[data['Label'] == 'Impostor']['Score']\n",
        "\n",
        "# Calculate FAR and FRR values for the given thresholds\n",
        "far_values, frr_values = calculate_far_frr(thresholds, imposter_scores, genuine_scores)\n",
        "\n",
        "# Find the EER (Equal Error Rate) point\n",
        "far_opt, frr_opt, eer_threshold = find_EER(far_values, frr_values, thresholds)\n",
        "\n",
        "# Calculate the EER value\n",
        "eer = (far_opt + frr_opt) / 2\n",
        "print(f\"Equal Error Rate (EER): {eer:.4f}\")"
      ],
      "metadata": {
        "colab": {
          "base_uri": "https://localhost:8080/",
          "height": 0
        },
        "id": "GvvlmWASL4n9",
        "outputId": "163b50b9-eeea-4897-bd3a-fd23fe885069"
      },
      "execution_count": 13,
      "outputs": [
        {
          "output_type": "stream",
          "name": "stdout",
          "text": [
            "Equal Error Rate (EER): 0.0210\n"
          ]
        }
      ]
    },
    {
      "cell_type": "markdown",
      "source": [
        "## 3 Identifying and Visualizing EER"
      ],
      "metadata": {
        "id": "X41J_Y5UMdmP"
      }
    },
    {
      "cell_type": "markdown",
      "source": [
        "Identifying EER\n",
        "* The Equal Error Rate (EER) occurs when FAR equals FRR. We calculate the EER by finding the threshold where the absolute difference between FAR and FRR is minimized.\n",
        "\n",
        "Visualization\n",
        "* FAR and FRR are plotted against the thresholds to show their relationship.\n",
        "* The EER is marked on the plot with a vertical line at the threshold where FAR equals FRR.\n",
        "* Detection Error Tradeoff (DET) curve\n"
      ],
      "metadata": {
        "id": "w5wWdetpMpfQ"
      }
    },
    {
      "cell_type": "code",
      "source": [
        "# Plot FAR and FRR against thresholds\n",
        "plt.figure(figsize=(10, 6))\n",
        "plt.plot(thresholds, far_values, label='FAR', color='red')\n",
        "plt.plot(thresholds, frr_values, label='FRR', color='blue')\n",
        "plt.axvline(eer_threshold, color='green', linestyle='--', label=f'EER = {eer:.4f} at Threshold = {eer_threshold:.2f}')\n",
        "plt.xlabel('Threshold'), plt.ylabel('Error Rate')\n",
        "plt.title('FAR and FRR vs Threshold')\n",
        "plt.legend(), plt.grid(), plt.show()"
      ],
      "metadata": {
        "colab": {
          "base_uri": "https://localhost:8080/",
          "height": 582
        },
        "id": "a9TkeJjCM3nW",
        "outputId": "b664b3be-472f-472b-8db5-e4d1182d66d4"
      },
      "execution_count": 14,
      "outputs": [
        {
          "output_type": "display_data",
          "data": {
            "text/plain": [
              "<Figure size 1000x600 with 1 Axes>"
            ],
            "image/png": "[encoded data removed]"
          },
          "metadata": {}
        },
        {
          "output_type": "execute_result",
          "data": {
            "text/plain": [
              "(<matplotlib.legend.Legend at 0x7c64cb608700>, None, None)"
            ]
          },
          "metadata": {},
          "execution_count": 14
        }
      ]
    },
    {
      "cell_type": "markdown",
      "source": [
        "# Part 3: ROC Curve Visualization"
      ],
      "metadata": {
        "id": "ZvY9fy4IYWi9"
      }
    },
    {
      "cell_type": "markdown",
      "source": [
        "## 1 ROC Curve Calculation"
      ],
      "metadata": {
        "id": "PCVwrFBaZCgs"
      }
    },
    {
      "cell_type": "markdown",
      "source": [
        "\n",
        "The **Receiver Operating Characteristic (ROC)** Curve provides a comprehensive view of the biometric system's performance by plotting the True Positive Rate (TPR) against the False Positive Rate (FAR) across various thresholds. Using Scikit-Learn's `roc_curve` function:\n",
        "\n",
        "1. True Positive Rate (TPR): Measures the proportion of correctly classified `Genuine` scores (1 - FRR).\n",
        "2. False Positive Rate (FPR): Measures the proportion of misclassified `Imposter` scores (equivalent to FAR).\n",
        "\n",
        "The Area Under the Curve (AUC) quantifies the overall performance of the system. A higher AUC value (closer to 1) indicates better separation between `Genuine` and `Imposter` scores.\n",
        "\n"
      ],
      "metadata": {
        "id": "POIqDEY5aNiP"
      }
    },
    {
      "cell_type": "code",
      "source": [
        "# Prepare the labels: Convert 'Genuine' to 1 and 'Imposter' to 0\n",
        "data['Binary_Label'] = data['Label'].apply(lambda x: 1 if x == 'Genuine' else 0)\n",
        "\n",
        "# Calculate the False Positive Rate (FAR), True Positive Rate (TPR), and thresholds\n",
        "fpr, tpr, roc_thresholds = roc_curve(data['Binary_Label'], data['Score'])\n",
        "\n",
        "# Calculate the Area Under the Curve (AUC)\n",
        "roc_auc = roc_auc_score(data['Binary_Label'], data['Score']) # roc_auc = auc(fpr, tpr)\n",
        "\n",
        "# Print AUC\n",
        "print(f\"\\nArea Under the Curve (AUC) : {roc_auc:.4f}\")"
      ],
      "metadata": {
        "colab": {
          "base_uri": "https://localhost:8080/",
          "height": 0
        },
        "id": "JX7PgOexZCEA",
        "outputId": "fd2aa1e2-f4ee-46ef-9e05-4de7034eec66"
      },
      "execution_count": 15,
      "outputs": [
        {
          "output_type": "stream",
          "name": "stdout",
          "text": [
            "\n",
            "Area Under the Curve (AUC) : 0.9984\n"
          ]
        }
      ]
    },
    {
      "cell_type": "markdown",
      "source": [
        "## 2 Plotting the ROC Curve"
      ],
      "metadata": {
        "id": "qcBxt-5dc1Hx"
      }
    },
    {
      "cell_type": "markdown",
      "source": [
        "#### Visualization of the ROC curve"
      ],
      "metadata": {
        "id": "AtMKYDmXc_cE"
      }
    },
    {
      "cell_type": "code",
      "source": [
        "# Plot the ROC curve\n",
        "plt.figure(figsize=(10, 6))\n",
        "\n",
        "plt.plot(fpr, tpr, color='blue', linestyle='--', linewidth=4, label=f'ROC Curve (AUC = {roc_auc:.4f})')\n",
        "plt.fill_between(fpr, tpr, alpha=0.2, color='blue') # Shade the area under the ROC curve\n",
        "\n",
        "plt.plot([0, 1], [0, 1], color='k', linestyle='--') # Random Guess with AUC = 0.5\n",
        "plt.fill_between([0, 1], [0, 1], color='black', alpha=0.2, hatch='|') # Shade the area under the ROC curve with a pattern\n",
        "\n",
        "plt.xlabel('False Positive Rate (FPR)')\n",
        "plt.ylabel('True Positive Rate (TPR)')\n",
        "plt.title('ROC Curve')\n",
        "plt.legend(loc='lower right'), plt.grid(), plt.show()"
      ],
      "metadata": {
        "colab": {
          "base_uri": "https://localhost:8080/",
          "height": 582
        },
        "id": "iP-lyZ2OZ0ea",
        "outputId": "92f2f34e-eced-435a-9f99-a8193e31cff5"
      },
      "execution_count": 16,
      "outputs": [
        {
          "output_type": "display_data",
          "data": {
            "text/plain": [
              "<Figure size 1000x600 with 1 Axes>"
            ],
            "image/png": "[encoded data removed]"
          },
          "metadata": {}
        },
        {
          "output_type": "execute_result",
          "data": {
            "text/plain": [
              "(<matplotlib.legend.Legend at 0x7c64cb6a47c0>, None, None)"
            ]
          },
          "metadata": {},
          "execution_count": 16
        }
      ]
    },
    {
      "cell_type": "markdown",
      "source": [
        "#### Discussion on the plot"
      ],
      "metadata": {
        "id": "tc6ow2B9dS6H"
      }
    },
    {
      "cell_type": "markdown",
      "source": [
        "The ROC Curve visualizes the tradeoff between the False Positive Rate (FAR) and True Positive Rate (TPR) across all thresholds:\n",
        "\n",
        "* The blue line represents the system’s performance, the blue shade represents the Area Under the curve with a value of `0.9984`.\n",
        "* The black dashed line indicates random guessing (`AUC = 0.5`).\n",
        "* The closer the ROC curve is to the top-left corner (larger area), the better the system performs.\n",
        "\n",
        "\n",
        "Generally speaking, the ROC curve and AUC offer several advantages for evaluating a biometric system:\n",
        "\n",
        "1. Unlike EER, which focuses on a single operating point, the ROC curve evaluates the system's performance across all thresholds, hence threshold Independent.\n",
        "2. The AUC allows for direct comparison between different systems or algorithms, with higher AUC values indicating superior performance.\n",
        "\n",
        "3. The ROC curve helps in selecting an optimal threshold based on the acceptable tradeoff between security (low FAR) and usability (low FRR)."
      ],
      "metadata": {
        "id": "wnfzotxSddAi"
      }
    },
    {
      "cell_type": "markdown",
      "source": [
        "# Part 4: DET Curve Visualization"
      ],
      "metadata": {
        "id": "YEhBwEPJfx5x"
      }
    },
    {
      "cell_type": "markdown",
      "source": [
        "## 1 Transform and Plot FAR and FRR"
      ],
      "metadata": {
        "id": "sfFVPTZYlUS2"
      }
    },
    {
      "cell_type": "markdown",
      "source": [
        "### Detection Error Tradeoff (DET): Overview"
      ],
      "metadata": {
        "id": "vzEHmNXNACvT"
      }
    },
    {
      "cell_type": "markdown",
      "source": [
        "\n",
        "A Detection Error Tradeoff (DET) curve is a graphical plot used to evaluate the performance of binary classification systems, particularly in biometric and speaker recognition systems. It plots the False Rejection Rate (FRR) against the False Acceptance Rate (FAR) at various threshold settings.\n",
        "\n",
        "A DET curve closer to the origin (lower left corner) indicates better performance, as it signifies lower error rates.\n",
        "\n",
        "\n"
      ],
      "metadata": {
        "id": "sKXBMsKQxKoS"
      }
    },
    {
      "cell_type": "markdown",
      "source": [
        "Using the helper function from Alexandar'c Face biometrics class, we can use the custome `plot_DET_curve()` function on the above `far_values` and `frr_values` data which were obtained from another cutome function: `calculate_far_frr()`"
      ],
      "metadata": {
        "id": "nLpQwAzGgJnC"
      }
    },
    {
      "cell_type": "code",
      "source": [
        "plot_DET_curve(far_values, frr_values, addedPlots=addedPlots)"
      ],
      "metadata": {
        "colab": {
          "base_uri": "https://localhost:8080/",
          "height": 564
        },
        "id": "DOmbehyzhDc7",
        "outputId": "119b39ee-cb77-4a88-bd8a-984f30e2f666"
      },
      "execution_count": 17,
      "outputs": [
        {
          "output_type": "display_data",
          "data": {
            "text/plain": [
              "<Figure size 1000x600 with 1 Axes>"
            ],
            "image/png": "[encoded data removed]"
          },
          "metadata": {}
        }
      ]
    },
    {
      "cell_type": "markdown",
      "source": [
        "### Transformation"
      ],
      "metadata": {
        "id": "HMywrQSSAH7Q"
      }
    },
    {
      "cell_type": "markdown",
      "source": [
        "The DET Curve can be ploted over a normal deviate transformation to better visualize small differences in error rates.\n",
        "\n",
        "According to the SciKit-learn documentation, DET curves are commonly plotted in normal deviate scale. To achieve this the DET display transforms the error rates as returned by the `det_curve` and the axis scale using `scipy.stats.norm`."
      ],
      "metadata": {
        "id": "9zTEQSSYiQrR"
      }
    },
    {
      "cell_type": "code",
      "source": [
        "# Calculate the False Positive Rate (FAR), True Positive Rate (TPR), and thresholds\n",
        "fpr, fnr, _ = det_curve(data['Binary_Label'], data['Score'])"
      ],
      "metadata": {
        "id": "pjMvTBihh9ds"
      },
      "execution_count": 18,
      "outputs": []
    },
    {
      "cell_type": "code",
      "source": [
        "# Create a figure and axes\n",
        "fig, ax = plt.subplots(figsize=(10, 6))\n",
        "\n",
        "# Create the DetCurveDisplay object\n",
        "display = DetCurveDisplay(fpr=fpr, fnr=fnr)\n",
        "\n",
        "# Plot the DET curve on the created axes\n",
        "display.plot(ax=ax)  # Pass the axes to the plot method\n",
        "\n",
        "# Add title and grid\n",
        "ax.set_title(\"Detection Error Tradeoff (DET) Curve\")\n",
        "ax.grid(True)\n",
        "\n",
        "plt.show()"
      ],
      "metadata": {
        "colab": {
          "base_uri": "https://localhost:8080/",
          "height": 564
        },
        "id": "yo0aCz_4ZyPT",
        "outputId": "d8b3cae0-6ec0-46fb-ba90-06312a3cbc3c"
      },
      "execution_count": 19,
      "outputs": [
        {
          "output_type": "display_data",
          "data": {
            "text/plain": [
              "<Figure size 1000x600 with 1 Axes>"
            ],
            "image/png": "[encoded data removed]"
          },
          "metadata": {}
        }
      ]
    },
    {
      "cell_type": "markdown",
      "source": [
        "## 2 Discussion on DET Curve Advantages"
      ],
      "metadata": {
        "id": "KBhAsonI7ef_"
      }
    },
    {
      "cell_type": "markdown",
      "source": [
        "The DET Curve offers several advantages when visualized in the normal deviate scale:\n",
        "\n",
        "1. By using a normal deviate scale, the DET curve magnifies small changes in FAR and FRR, which are critical for high-performing biometric systems.\n",
        "2. The transformation ensures a balanced view of error rates, making it easier to compare systems with similar performance.\n",
        "3. It allows for precise tuning of thresholds in regions where both FAR and FRR are very low, which is crucial for applications requiring high reliability."
      ],
      "metadata": {
        "id": "4PHZCU4h7pwZ"
      }
    },
    {
      "cell_type": "markdown",
      "source": [
        "# Part 5: Interpretation and Analysis"
      ],
      "metadata": {
        "id": "Se6FnJ_U8E_g"
      }
    },
    {
      "cell_type": "markdown",
      "source": [
        "## 1 Analyzing the EER, ROC, and DET Curves"
      ],
      "metadata": {
        "id": "LDj26m2O8T8f"
      }
    },
    {
      "cell_type": "markdown",
      "source": [
        "1. Equal Error Rate (EER):\n",
        "\n",
        "    * The EER is a critical performance metric for biometric systems. It represents the threshold where the False Acceptance Rate (FAR) equals the False Rejection Rate (FRR).\n",
        "    * A lower EER indicates better overall system accuracy and balance between security (low FAR) and usability (low FRR).\n",
        "2. ROC Curve:\n",
        "\n",
        "    * The Receiver Operating Characteristic (ROC) Curve illustrates the trade-off between FAR and True Positive Rate (1 - FRR) at various thresholds.\n",
        "    * A curve that hugs the top-left corner indicates high system performance. The Area Under the Curve (AUC) quantifies the overall effectiveness, with values closer to 1 signifying near-perfect classification.\n",
        "3. DET Curve:\n",
        "\n",
        "    * The Detection Error Tradeoff (DET) Curve focuses on the detailed behavior of FAR and FRR, particularly in regions of low error rates. It is helpful for high-accuracy systems where small variations in error rates matter.\n",
        "    * Its symmetric nature provides a clear view of system behavior, aiding in threshold optimization."
      ],
      "metadata": {
        "id": "ZdOqFusiJDd-"
      }
    },
    {
      "cell_type": "markdown",
      "source": [
        "## 2  Discussing FAR and FRR Trade-offs"
      ],
      "metadata": {
        "id": "9pS_59WU2_sM"
      }
    },
    {
      "cell_type": "markdown",
      "source": [
        "Trade-offs Between FAR and FRR\n",
        "* FAR (False Acceptance Rate):\n",
        "    * Measures how often the system falsely accepts impostors.\n",
        "    * A high FAR compromises security, as unauthorized users may gain access.\n",
        "* FRR (False Rejection Rate):\n",
        "    * Measures how often the system falsely rejects genuine users.\n",
        "    * A high FRR reduces usability, leading to frustration for legitimate users.\n",
        "\n",
        "Trade-offs: Adjusting the system threshold shifts the balance between FAR and FRR:\n",
        "* Lowering the threshold decreases FAR (improves security) but increases FRR (reduces usability).\n",
        "* Raising the threshold decreases FRR (improves usability) but increases FAR (compromises security)."
      ],
      "metadata": {
        "id": "DMZWyeJD3Sni"
      }
    },
    {
      "cell_type": "markdown",
      "source": [
        "## 3 Scenario Analysis"
      ],
      "metadata": {
        "id": "_WYJs7s33xDO"
      }
    },
    {
      "cell_type": "markdown",
      "source": [
        "\n",
        "Different applications require varying levels of security and convenience. Let’s analyze two scenarios:\n",
        "\n",
        "1. Smartphone Authentication:\n",
        "\n",
        "    * Priority: Convenience is critical. A higher threshold is preferable to minimize FRR, even if it slightly increases FAR.\n",
        "    * Justification: Users are likely in possession of their phones, so the risk of impostors is lower.\n",
        "\n",
        "2. High-Security Facility:\n",
        "\n",
        "    * Priority: Security is paramount. A lower threshold is necessary to minimize FAR, even if it increases FRR.\n",
        "    * Justification: The potential damage from an impostor gaining access outweighs the inconvenience to legitimate users."
      ],
      "metadata": {
        "id": "6Q1taRiI31kM"
      }
    },
    {
      "cell_type": "markdown",
      "source": [
        "Threshold Adjustment"
      ],
      "metadata": {
        "id": "XN8NPW6z4gr_"
      }
    },
    {
      "cell_type": "code",
      "source": [
        "# Adjusting the threshold for different scenarios\n",
        "low_security_threshold = 0.7  # Higher threshold for convenience\n",
        "high_security_threshold = 0.3  # Lower threshold for security\n",
        "\n",
        "# Calculate FAR and FRR for the selected thresholds\n",
        "low_security_far = np.sum((data['Score'] > low_security_threshold) & (data['Label'] == 'Impostor')) / np.sum(data['Label'] == 'Impostor')\n",
        "low_security_frr = np.sum((data['Score'] <= low_security_threshold) & (data['Label'] == 'Genuine')) / np.sum(data['Label'] == 'Genuine')\n",
        "\n",
        "high_security_far = np.sum((data['Score'] > high_security_threshold) & (data['Label'] == 'Impostor')) / np.sum(data['Label'] == 'Impostor')\n",
        "high_security_frr = np.sum((data['Score'] <= high_security_threshold) & (data['Label'] == 'Genuine')) / np.sum(data['Label'] == 'Genuine')\n",
        "\n",
        "print(f\"Low Security (Threshold = {low_security_threshold}): FAR = {low_security_far:.4f}, FRR = {low_security_frr:.4f}\")\n",
        "print(f\"High Security (Threshold = {high_security_threshold}): FAR = {high_security_far:.4f}, FRR = {high_security_frr:.4f}\")\n"
      ],
      "metadata": {
        "colab": {
          "base_uri": "https://localhost:8080/",
          "height": 0
        },
        "id": "33MFLO998eWc",
        "outputId": "b96f813b-88df-4bbd-acc1-8c55c3b1cb6e"
      },
      "execution_count": 20,
      "outputs": [
        {
          "output_type": "stream",
          "name": "stdout",
          "text": [
            "Low Security (Threshold = 0.7): FAR = 0.0000, FRR = 0.4920\n",
            "High Security (Threshold = 0.3): FAR = 0.5120, FRR = 0.0000\n"
          ]
        }
      ]
    }
  ]
}