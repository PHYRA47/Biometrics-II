{
 "cells": [
  {
   "cell_type": "code",
   "execution_count": 18,
   "metadata": {},
   "outputs": [],
   "source": [
    "from deepface import DeepFace\n",
    "\n",
    "import face_recognition as fr\n",
    "import numpy as np\n",
    "import cv2\n",
    "import os"
   ]
  },
  {
   "cell_type": "code",
   "execution_count": 4,
   "metadata": {},
   "outputs": [],
   "source": [
    "backends = [\n",
    "  'opencv', \n",
    "  'ssd', \n",
    "  'dlib', \n",
    "  'mtcnn', \n",
    "  'fastmtcnn',\n",
    "  'retinaface', \n",
    "  'mediapipe',\n",
    "  'yolov8',\n",
    "  'yunet',\n",
    "  'centerface',\n",
    "]\n",
    "\n",
    "alignment_modes = [True, False]"
   ]
  },
  {
   "cell_type": "code",
   "execution_count": 85,
   "metadata": {},
   "outputs": [
    {
     "name": "stdout",
     "output_type": "stream",
     "text": [
      "../asset/presidents.jpg\n"
     ]
    }
   ],
   "source": [
    "# Image Path\n",
    "# image_path = os.path.join(os.getcwd(), \"Biometrics Skills - Amine Nait-Ali\", \"skill2_Face_Recognition_for_Identification\", \"asset\", \"presidents.jpg\")\n",
    "\n",
    "image_path = \"../asset/presidents.jpg\"; print(image_path) \n",
    "\n",
    "image = cv2.cvtColor(cv2.imread(image_path), cv2.COLOR_BGR2RGB)"
   ]
  },
  {
   "cell_type": "code",
   "execution_count": null,
   "metadata": {},
   "outputs": [
    {
     "name": "stdout",
     "output_type": "stream",
     "text": [
      "<class 'list'>\n"
     ]
    }
   ],
   "source": [
    "embedding_objects = DeepFace.represent(\n",
    "  img_path = image, \n",
    "  model_name = \"Facenet\",\n",
    ")\n",
    "\n",
    "face_encodings = []\n",
    "face_locations = []\n",
    "\n",
    "# Print the embeddings\n",
    "for embedding_object in embedding_objects:\n",
    "    embedding = embedding_object['embedding']\n",
    "    facial_area = embedding_object['facial_area']\n",
    "    face_encodings.append(np.array(embedding))\n",
    "\n",
    "\n",
    "    # Extract coordinates from facial_area\n",
    "    left = facial_area['x']\n",
    "    top = facial_area['y']\n",
    "    right = left + facial_area['w']\n",
    "    bottom = top + facial_area['h']\n",
    "\n",
    "    face_locations.append((top, right, bottom, left))\n",
    "\n",
    "print(type(face_locations))"
   ]
  },
  {
   "cell_type": "code",
   "execution_count": 88,
   "metadata": {},
   "outputs": [
    {
     "name": "stdout",
     "output_type": "stream",
     "text": [
      "<class 'list'>\n"
     ]
    }
   ],
   "source": [
    "\n",
    "# deep face also return multiple face embeddings in a picutre including tothe detail\n",
    "\n",
    "face_encodings = fr.face_locations(image)\n",
    "print(type(face_encodings))\n",
    "          \n",
    "# face_encodings = face_recognition.face_encodings(image, face_locations); print(f'face_encodings: {face_encodings}\\n')"
   ]
  },
  {
   "cell_type": "code",
   "execution_count": 37,
   "metadata": {},
   "outputs": [
    {
     "name": "stdout",
     "output_type": "stream",
     "text": [
      "{'verified': True, 'distance': 0.6463591938280628, 'threshold': 0.68, 'model': 'VGG-Face', 'detector_backend': 'dlib', 'similarity_metric': 'cosine', 'facial_areas': {'img1': {'x': 117, 'y': 118, 'w': 223, 'h': 223, 'left_eye': (273, 169), 'right_eye': (188, 187)}, 'img2': {'x': 139, 'y': 160, 'w': 185, 'h': 185, 'left_eye': (266, 212), 'right_eye': (181, 203)}}, 'time': 0.94}\n"
     ]
    }
   ],
   "source": [
    "# face verification\n",
    "obj = DeepFace.verify(\n",
    "  img1_path = \"../asset/t1/1.jpg\", \n",
    "  img2_path = \"../asset/t1/2.jpg\", \n",
    "  detector_backend = backends[2],\n",
    "  align = alignment_modes[1])\n",
    "\n",
    "print(obj)"
   ]
  },
  {
   "cell_type": "code",
   "execution_count": null,
   "metadata": {},
   "outputs": [],
   "source": [
    "known_face_encodings = face_encodings\n",
    "\n",
    "face_distances = fr.face_distance(known_face_encodings, face_encoding)"
   ]
  }
 ],
 "metadata": {
  "kernelspec": {
   "display_name": "si",
   "language": "python",
   "name": "python3"
  },
  "language_info": {
   "codemirror_mode": {
    "name": "ipython",
    "version": 3
   },
   "file_extension": ".py",
   "mimetype": "text/x-python",
   "name": "python",
   "nbconvert_exporter": "python",
   "pygments_lexer": "ipython3",
   "version": "3.10.14"
  }
 },
 "nbformat": 4,
 "nbformat_minor": 2
}
